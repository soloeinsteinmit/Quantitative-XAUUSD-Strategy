{
 "cells": [
  {
   "cell_type": "markdown",
   "id": "7785125f",
   "metadata": {},
   "source": [
    "### **Setting Up Workspace**"
   ]
  },
  {
   "cell_type": "code",
   "execution_count": 1,
   "id": "f8088f15",
   "metadata": {},
   "outputs": [],
   "source": [
    "# src/train_model.py\n",
    "import pandas as pd\n",
    "import xgboost as xgb\n",
    "from sklearn.model_selection import train_test_split # We will explain why NOT to use this\n",
    "from sklearn.metrics import classification_report, mean_absolute_error, r2_score\n",
    "import joblib # For saving our trained models"
   ]
  },
  {
   "cell_type": "markdown",
   "id": "c9548fad",
   "metadata": {},
   "source": [
    "### **Load Clean Feature Data**\n",
    "\n",
    "Our first step is to load the hyp_a_features.parquet file that your previous script created."
   ]
  },
  {
   "cell_type": "code",
   "execution_count": 2,
   "id": "2c62118e",
   "metadata": {},
   "outputs": [
    {
     "name": "stdout",
     "output_type": "stream",
     "text": [
      "Step 1: Loading features...\n",
      "Features loaded successfully.\n",
      "<class 'pandas.core.frame.DataFrame'>\n",
      "DatetimeIndex: 2754 entries, 2015-01-15 to 2025-09-19\n",
      "Data columns (total 9 columns):\n",
      " #   Column             Non-Null Count  Dtype  \n",
      "---  ------             --------------  -----  \n",
      " 0   day_of_week        2754 non-null   int64  \n",
      " 1   asia_return        2754 non-null   float64\n",
      " 2   asia_range         2754 non-null   float64\n",
      " 3   atr_at_asia_close  2754 non-null   float64\n",
      " 4   rsi_at_asia_close  2754 non-null   float64\n",
      " 5   ema50_dist         2754 non-null   float64\n",
      " 6   ema200_dist        2754 non-null   float64\n",
      " 7   london_direction   2754 non-null   int64  \n",
      " 8   london_return      2754 non-null   float64\n",
      "dtypes: float64(7), int64(2)\n",
      "memory usage: 215.2 KB\n"
     ]
    }
   ],
   "source": [
    "# --- Step 1: Load Feature Data ---\n",
    "print(\"Step 1: Loading features...\")\n",
    "\n",
    "try:\n",
    "    year = 2015\n",
    "    df = pd.read_parquet(f'../data/processed/hyp_a_features_{year}_present.parquet')\n",
    "except FileNotFoundError:\n",
    "    print(\"Error: The feature file was not found.\")\n",
    "    print(\"Please run the 'feature_engineering.py' script first.\")\n",
    "    exit()\n",
    "\n",
    "print(\"Features loaded successfully.\")\n",
    "df.info()"
   ]
  },
  {
   "cell_type": "markdown",
   "id": "b45e79c5",
   "metadata": {},
   "source": [
    "### **Step 2: Define Features (X) and Targets (y) and Split the Data**\n",
    "\n",
    "This is the most important conceptual step in machine learning. We need to separate our data into two groups:\n",
    "\n",
    "- `X` (The Features): The information the model will use to make a prediction (e.g., asia_return, rsi_at_asia_close).\n",
    "- `y` (The Target): The answer the model is trying to predict (e.g., london_direction).\n",
    "\n",
    "**Crucially, for time-series data, we CANNOT split the data randomly**. We must split it chronologically to simulate reality. We train on the past and test on the more recent \"future\"."
   ]
  },
  {
   "cell_type": "code",
   "execution_count": 3,
   "id": "d9e63e65",
   "metadata": {},
   "outputs": [
    {
     "name": "stdout",
     "output_type": "stream",
     "text": [
      "\n",
      "Step 2: Preparing data for training...\n",
      "Data split into training and testing sets:\n",
      "X_train shape: (2203, 7)\n",
      "X_test shape:  (551, 7)\n"
     ]
    }
   ],
   "source": [
    "# --- Step 2: Define Features, Targets, and Split Data ---\n",
    "print(\"\\nStep 2: Preparing data for training...\")\n",
    "\n",
    "# 'X' is our feature set. We drop the two target columns.\n",
    "X = df.drop(columns=['london_direction', 'london_return'])\n",
    "\n",
    "# We have two separate targets we want to predict.\n",
    "y_class = df['london_direction']  # For our classification model\n",
    "y_reg = df['london_return']      # For our regression model\n",
    "\n",
    "# --- The Time-Series Split ---\n",
    "# We will use the first 80% of the data for training and the last 20% for testing.\n",
    "# This ensures we are always testing on data that comes after our training data.\n",
    "train_size = int(len(df) * 0.8)\n",
    "\n",
    "X_train, X_test = X.iloc[:train_size], X.iloc[train_size:]\n",
    "y_train_class, y_test_class = y_class.iloc[:train_size], y_class.iloc[train_size:]\n",
    "y_train_reg, y_test_reg = y_reg.iloc[:train_size], y_reg.iloc[train_size:]\n",
    "\n",
    "print(f\"Data split into training and testing sets:\")\n",
    "print(f\"X_train shape: {X_train.shape}\")\n",
    "print(f\"X_test shape:  {X_test.shape}\")"
   ]
  },
  {
   "cell_type": "markdown",
   "id": "6779f255",
   "metadata": {},
   "source": [
    "### **Step 3: Train the Classification Model (Hypothesis A1)**\n",
    "\n",
    "Now we'll teach our first model to predict the direction (1 or 0). We will use XGBClassifier."
   ]
  },
  {
   "cell_type": "code",
   "execution_count": 4,
   "id": "3271ccf9",
   "metadata": {},
   "outputs": [
    {
     "name": "stdout",
     "output_type": "stream",
     "text": [
      "\n",
      "--- Training Classification Model (Hypothesis A1) ---\n"
     ]
    },
    {
     "name": "stderr",
     "output_type": "stream",
     "text": [
      "c:\\Users\\mecha\\anaconda3\\envs\\trade_env\\Lib\\site-packages\\xgboost\\training.py:183: UserWarning: [22:29:45] WARNING: C:\\actions-runner\\_work\\xgboost\\xgboost\\src\\learner.cc:738: \n",
      "Parameters: { \"use_label_encoder\" } are not used.\n",
      "\n",
      "  bst.update(dtrain, iteration=i, fobj=obj)\n"
     ]
    },
    {
     "name": "stdout",
     "output_type": "stream",
     "text": [
      "\n",
      "--- Evaluating Classification Model ---\n",
      "              precision    recall  f1-score   support\n",
      "\n",
      " Bearish (0)       0.48      0.39      0.43       263\n",
      " Bullish (1)       0.52      0.61      0.56       288\n",
      "\n",
      "    accuracy                           0.50       551\n",
      "   macro avg       0.50      0.50      0.50       551\n",
      "weighted avg       0.50      0.50      0.50       551\n",
      "\n"
     ]
    }
   ],
   "source": [
    "# --- Step 3: Train Classification Model ---\n",
    "print(\"\\n--- Training Classification Model (Hypothesis A1) ---\")\n",
    "\n",
    "# Initialize the XGBoost Classifier model with some standard parameters.\n",
    "# 'objective' tells it to perform binary (two-class) classification.\n",
    "# 'eval_metric' is the metric used to stop training early if it's not improving.\n",
    "model_class = xgb.XGBClassifier(\n",
    "    objective='binary:logistic',\n",
    "    eval_metric='logloss',\n",
    "    n_estimators=1000, # Number of decision trees to build.\n",
    "    learning_rate=0.05,\n",
    "    max_depth=5,\n",
    "    use_label_encoder=False,\n",
    "    random_state=42\n",
    ")\n",
    "\n",
    "# Train the model on our training data.\n",
    "model_class.fit(X_train, y_train_class)\n",
    "\n",
    "# --- Evaluate the Classification Model ---\n",
    "print(\"\\n--- Evaluating Classification Model ---\")\n",
    "\n",
    "# Make predictions on the unseen test data.\n",
    "y_pred_class = model_class.predict(X_test)\n",
    "\n",
    "# Print a report showing key metrics.\n",
    "# Precision: Of all the \"bullish\" predictions, how many were correct?\n",
    "# Recall: Of all the actual bullish days, how many did we correctly identify?\n",
    "# F1-Score: A combined score of precision and recall.\n",
    "print(classification_report(y_test_class, y_pred_class, target_names=['Bearish (0)', 'Bullish (1)']))"
   ]
  },
  {
   "cell_type": "markdown",
   "id": "9d55ec41",
   "metadata": {},
   "source": [
    "### **Step 4: Train the Regression Model (Hypothesis A2)**\n",
    "\n",
    "Next, we'll teach our second model to predict the actual return value. We will use XGBRegressor."
   ]
  },
  {
   "cell_type": "code",
   "execution_count": 5,
   "id": "6dcf6514",
   "metadata": {},
   "outputs": [
    {
     "name": "stdout",
     "output_type": "stream",
     "text": [
      "\n",
      "--- Training Regression Model (Hypothesis A2) ---\n",
      "\n",
      "--- Evaluating Regression Model ---\n",
      "Mean Absolute Error (MAE): 0.005311\n",
      "MAE tells us, on average, how far off our return prediction was in percentage points.\n",
      "R-squared (R2 Score): -0.4444\n",
      "R2 Score tells us how much of the variance in the returns our model can explain (closer to 1 is better).\n"
     ]
    }
   ],
   "source": [
    "# --- Step 4: Train Regression Model ---\n",
    "print(\"\\n--- Training Regression Model (Hypothesis A2) ---\")\n",
    "\n",
    "# Initialize the XGBoost Regressor model.\n",
    "# 'objective' tells it to minimize the squared error, which is standard for regression.\n",
    "model_reg = xgb.XGBRegressor(\n",
    "    objective='reg:squarederror',\n",
    "    eval_metric='rmse', # Root Mean Squared Error\n",
    "    n_estimators=1000,\n",
    "    learning_rate=0.05,\n",
    "    max_depth=5,\n",
    "    random_state=42\n",
    ")\n",
    "\n",
    "# Train the model on our training data.\n",
    "model_reg.fit(X_train, y_train_reg)\n",
    "\n",
    "# --- Evaluate the Regression Model ---\n",
    "print(\"\\n--- Evaluating Regression Model ---\")\n",
    "\n",
    "# Make predictions on the unseen test data.\n",
    "y_pred_reg = model_reg.predict(X_test)\n",
    "\n",
    "# Calculate and print key metrics.\n",
    "mae = mean_absolute_error(y_test_reg, y_pred_reg)\n",
    "r2 = r2_score(y_test_reg, y_pred_reg)\n",
    "\n",
    "print(f\"Mean Absolute Error (MAE): {mae:.6f}\")\n",
    "print(\"MAE tells us, on average, how far off our return prediction was in percentage points.\")\n",
    "print(f\"R-squared (R2 Score): {r2:.4f}\")\n",
    "print(\"R2 Score tells us how much of the variance in the returns our model can explain (closer to 1 is better).\")"
   ]
  },
  {
   "cell_type": "markdown",
   "id": "63399248",
   "metadata": {},
   "source": [
    "--- Training Regression Model (Hypothesis A2) ---\n",
    "\n",
    "--- Evaluating Regression Model ---\n",
    "Mean Absolute Error (MAE): 0.005979\n",
    "MAE tells us, on average, how far off our return prediction was in percentage points.\n",
    "R-squared (R2 Score): -0.7396\n",
    "R2 Score tells us how much of the variance in the returns our model can explain (closer to 1 is better)."
   ]
  },
  {
   "cell_type": "markdown",
   "id": "eae1e8a6",
   "metadata": {},
   "source": [
    "**Step 5: Save Your Trained Models**\n",
    "\n",
    "The final step is to save our two trained models so we can load them later in our backtesting script without having to retrain them."
   ]
  },
  {
   "cell_type": "code",
   "execution_count": 6,
   "id": "495f3a4c",
   "metadata": {},
   "outputs": [
    {
     "name": "stdout",
     "output_type": "stream",
     "text": [
      "\n",
      "Step 5: Saving models...\n",
      "Classification model saved to: ../models/xgb_classifier_hyp_a_2015_present.joblib\n",
      "Regression model saved to: ../models/xgb_regressor_hyp_a_2015_present.joblib\n"
     ]
    }
   ],
   "source": [
    "# --- Step 5: Save Trained Models ---\n",
    "print(\"\\nStep 5: Saving models...\")\n",
    "\n",
    "# Define the paths where the models will be saved.\n",
    "class_model_path = f'../models/xgb_classifier_hyp_a_{year}_present.joblib'\n",
    "reg_model_path = f'../models/xgb_regressor_hyp_a_{year}_present.joblib'\n",
    "\n",
    "# Use joblib to dump the trained model objects into files.\n",
    "joblib.dump(model_class, class_model_path)\n",
    "joblib.dump(model_reg, reg_model_path)\n",
    "\n",
    "print(f\"Classification model saved to: {class_model_path}\")\n",
    "print(f\"Regression model saved to: {reg_model_path}\")"
   ]
  }
 ],
 "metadata": {
  "kernelspec": {
   "display_name": "trade_env",
   "language": "python",
   "name": "python3"
  },
  "language_info": {
   "codemirror_mode": {
    "name": "ipython",
    "version": 3
   },
   "file_extension": ".py",
   "mimetype": "text/x-python",
   "name": "python",
   "nbconvert_exporter": "python",
   "pygments_lexer": "ipython3",
   "version": "3.13.7"
  }
 },
 "nbformat": 4,
 "nbformat_minor": 5
}
