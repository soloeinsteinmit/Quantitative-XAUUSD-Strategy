{
 "cells": [
  {
   "cell_type": "code",
   "execution_count": 28,
   "id": "a0ca4396",
   "metadata": {},
   "outputs": [],
   "source": [
    "# src/train_pytorch.py (Modified for Session Classification)\n",
    "import torch\n",
    "import torch.nn as nn\n",
    "from torch.utils.data import DataLoader\n",
    "from sklearn.model_selection import train_test_split # Random split is OK here\n",
    "import numpy as np\n",
    "from sklearn.metrics import classification_report, confusion_matrix\n",
    "import seaborn as sns\n",
    "import matplotlib.pyplot as plt\n",
    "\n",
    "# import sys\n",
    "# import os\n",
    "# from pathlib import Path\n",
    "\n",
    "# current_dir = Path(os.getcwd())\n",
    "# sys.path.append(str(current_dir.parent))\n",
    "\n",
    "from pytorch_utils import TimeSeriesDataset, LSTMModel # Our custom classes"
   ]
  },
  {
   "cell_type": "markdown",
   "id": "3dad7771",
   "metadata": {},
   "source": [
    "### Clasification"
   ]
  },
  {
   "cell_type": "code",
   "execution_count": 2,
   "id": "d655c9aa",
   "metadata": {},
   "outputs": [
    {
     "name": "stdout",
     "output_type": "stream",
     "text": [
      "Step 1: Loading session sequence data...\n",
      "DataLoaders created.\n"
     ]
    }
   ],
   "source": [
    "# --- Step 1: Load CORRECT Data ---\n",
    "print(\"Step 1: Loading session sequence data...\")\n",
    "X = np.load('../data/processed/hyp_a_xauusd_h1_2018_session_sequences_X_padded.npy')\n",
    "y = np.load('../data/processed/hyp_a_xauusd_h1_2018_session_targets_y_class.npy') # Load the classification target\n",
    "y_reg = np.load('../data/processed/hyp_a_xauusd_h1_2018_session_targets_y_reg.npy') # Load the reg target\n",
    "\n",
    "\n",
    "# --- Step 2: Create Datasets and DataLoaders ---\n",
    "# For session-to-session prediction, a random split is acceptable.\n",
    "X_train, X_test, y_train, y_test = train_test_split(X, y, test_size=0.2, random_state=42)\n",
    "X_train, X_test, y_train_reg, y_test_reg = train_test_split(X, y_reg, test_size=0.2, random_state=42)\n",
    "\n",
    "train_dataset = TimeSeriesDataset(X_train, y_train)\n",
    "test_dataset = TimeSeriesDataset(X_test, y_test)\n",
    "\n",
    "train_dataset_reg = TimeSeriesDataset(X_train, y_train_reg)\n",
    "test_dataset_reg = TimeSeriesDataset(X_test, y_test_reg)\n",
    "\n",
    "train_loader = DataLoader(train_dataset, batch_size=64, shuffle=True)\n",
    "test_loader = DataLoader(test_dataset, batch_size=64, shuffle=False)\n",
    "\n",
    "train_loader_reg = DataLoader(train_dataset_reg, batch_size=64, shuffle=True)\n",
    "test_loader_reg = DataLoader(test_dataset_reg, batch_size=64, shuffle=False)\n",
    "print(\"DataLoaders created.\")"
   ]
  },
  {
   "cell_type": "code",
   "execution_count": 13,
   "id": "9a2f8725",
   "metadata": {},
   "outputs": [
    {
     "data": {
      "text/plain": [
       "(array([[ 0.        ,  0.        ,  0.        ,  0.        ,  0.        ],\n",
       "        [-1.08187971, -1.07766116, -1.07921718, -1.07819699,  0.3234584 ],\n",
       "        [-1.07824367, -1.07938434, -1.08074401, -1.08199787, -0.51209084],\n",
       "        [-1.08211844, -1.08327066, -1.08352175, -1.08521117, -0.31578005],\n",
       "        [-1.08529538, -1.08772527, -1.0874768 , -1.08871825,  0.22308018],\n",
       "        [-1.08876614, -1.09010839, -1.09240682, -1.09251912,  0.64190772],\n",
       "        [-1.09256745, -1.09355475, -1.09093517, -1.092868  , -0.00411621],\n",
       "        [-1.09291636, -1.09474631, -1.09187334, -1.09244568, -0.44493804],\n",
       "        [-1.09249399, -1.0926565 , -1.08988662, -1.09101346, -0.47441976],\n",
       "        [-1.09106162, -1.08939345, -1.08916919, -1.08717587, -0.11736343]]),\n",
       " np.int64(1))"
      ]
     },
     "execution_count": 13,
     "metadata": {},
     "output_type": "execute_result"
    }
   ],
   "source": [
    "X[1],y[1]"
   ]
  },
  {
   "cell_type": "code",
   "execution_count": 14,
   "id": "7af30eac",
   "metadata": {},
   "outputs": [
    {
     "data": {
      "text/plain": [
       "(1995, 10, 5)"
      ]
     },
     "execution_count": 14,
     "metadata": {},
     "output_type": "execute_result"
    }
   ],
   "source": [
    "X.shape"
   ]
  },
  {
   "cell_type": "code",
   "execution_count": 10,
   "id": "60bf5636",
   "metadata": {},
   "outputs": [
    {
     "name": "stdout",
     "output_type": "stream",
     "text": [
      "Model, Loss, and Optimizer initialized for Classification.\n"
     ]
    }
   ],
   "source": [
    "# --- Step 3: Initialize Model, Loss, and Optimizer for CLASSIFICATION ---\n",
    "input_size = X.shape[2]    # Num features per hour (5)\n",
    "hidden_size = 50\n",
    "output_size = 1 # We still output one number, but it will be a logit for classification\n",
    "\n",
    "model = LSTMModel(input_size, hidden_size, output_size)\n",
    "# USE THE CORRECT LOSS FOR BINARY CLASSIFICATION!\n",
    "criterion = nn.BCEWithLogitsLoss() # This is the standard for binary classification\n",
    "criterion_reg = nn.L1Loss() # This is the standard for reg\n",
    "# criterion_reg = nn.MSELoss()\n",
    "optimizer = torch.optim.Adam(model.parameters(), lr=0.001)\n",
    "print(\"Model, Loss, and Optimizer initialized for Classification.\")"
   ]
  },
  {
   "cell_type": "code",
   "execution_count": 43,
   "id": "08b9a6cd",
   "metadata": {},
   "outputs": [
    {
     "name": "stdout",
     "output_type": "stream",
     "text": [
      "\n",
      "Step 4: Starting training loop...\n",
      "Epoch [1/100], Loss: 0.1184\n",
      "Epoch [2/100], Loss: 0.1642\n",
      "Epoch [3/100], Loss: 0.0817\n",
      "Epoch [4/100], Loss: 0.1337\n",
      "Epoch [5/100], Loss: 0.0885\n",
      "Epoch [6/100], Loss: 0.1064\n",
      "Epoch [7/100], Loss: 0.1039\n",
      "Epoch [8/100], Loss: 0.1045\n",
      "Epoch [9/100], Loss: 0.0887\n",
      "Epoch [10/100], Loss: 0.1695\n",
      "Epoch [11/100], Loss: 0.1531\n",
      "Epoch [12/100], Loss: 0.1194\n",
      "Epoch [13/100], Loss: 0.1027\n",
      "Epoch [14/100], Loss: 0.2344\n",
      "Epoch [15/100], Loss: 0.2877\n",
      "Epoch [16/100], Loss: 0.2636\n",
      "Epoch [17/100], Loss: 0.1757\n",
      "Epoch [18/100], Loss: 0.1435\n",
      "Epoch [19/100], Loss: 0.1817\n",
      "Epoch [20/100], Loss: 0.3674\n",
      "Epoch [21/100], Loss: 0.2095\n",
      "Epoch [22/100], Loss: 0.3617\n",
      "Epoch [23/100], Loss: 0.1392\n",
      "Epoch [24/100], Loss: 0.1575\n",
      "Epoch [25/100], Loss: 0.0601\n",
      "Epoch [26/100], Loss: 0.1518\n",
      "Epoch [27/100], Loss: 0.1033\n",
      "Epoch [28/100], Loss: 0.1750\n",
      "Epoch [29/100], Loss: 0.1448\n",
      "Epoch [30/100], Loss: 0.1248\n",
      "Epoch [31/100], Loss: 0.1125\n",
      "Epoch [32/100], Loss: 0.0951\n",
      "Epoch [33/100], Loss: 0.1727\n",
      "Epoch [34/100], Loss: 0.1386\n",
      "Epoch [35/100], Loss: 0.1169\n",
      "Epoch [36/100], Loss: 0.0955\n",
      "Epoch [37/100], Loss: 0.1312\n",
      "Epoch [38/100], Loss: 0.0941\n",
      "Epoch [39/100], Loss: 0.1444\n",
      "Epoch [40/100], Loss: 0.1581\n",
      "Epoch [41/100], Loss: 0.0881\n",
      "Epoch [42/100], Loss: 0.1128\n",
      "Epoch [43/100], Loss: 0.1054\n",
      "Epoch [44/100], Loss: 0.1789\n",
      "Epoch [45/100], Loss: 0.1633\n",
      "Epoch [46/100], Loss: 0.1480\n",
      "Epoch [47/100], Loss: 0.2887\n",
      "Epoch [48/100], Loss: 0.2482\n",
      "Epoch [49/100], Loss: 0.2169\n",
      "Epoch [50/100], Loss: 0.1920\n",
      "Epoch [51/100], Loss: 0.1458\n",
      "Epoch [52/100], Loss: 0.1451\n",
      "Epoch [53/100], Loss: 0.0915\n",
      "Epoch [54/100], Loss: 0.1499\n",
      "Epoch [55/100], Loss: 0.1651\n",
      "Epoch [56/100], Loss: 0.1453\n",
      "Epoch [57/100], Loss: 0.1303\n",
      "Epoch [58/100], Loss: 0.0847\n",
      "Epoch [59/100], Loss: 0.1039\n",
      "Epoch [60/100], Loss: 0.1750\n",
      "Epoch [61/100], Loss: 0.0909\n",
      "Epoch [62/100], Loss: 0.0737\n",
      "Epoch [63/100], Loss: 0.1062\n",
      "Epoch [64/100], Loss: 0.0677\n",
      "Epoch [65/100], Loss: 0.0856\n",
      "Epoch [66/100], Loss: 0.1785\n",
      "Epoch [67/100], Loss: 0.1102\n",
      "Epoch [68/100], Loss: 0.0815\n",
      "Epoch [69/100], Loss: 0.1299\n",
      "Epoch [70/100], Loss: 0.1991\n",
      "Epoch [71/100], Loss: 0.2279\n",
      "Epoch [72/100], Loss: 0.0703\n",
      "Epoch [73/100], Loss: 0.2584\n",
      "Epoch [74/100], Loss: 0.0887\n",
      "Epoch [75/100], Loss: 0.1070\n",
      "Epoch [76/100], Loss: 0.1209\n",
      "Epoch [77/100], Loss: 0.0657\n",
      "Epoch [78/100], Loss: 0.1446\n",
      "Epoch [79/100], Loss: 0.0633\n",
      "Epoch [80/100], Loss: 0.1202\n",
      "Epoch [81/100], Loss: 0.0925\n",
      "Epoch [82/100], Loss: 0.2170\n",
      "Epoch [83/100], Loss: 0.1357\n",
      "Epoch [84/100], Loss: 0.1429\n",
      "Epoch [85/100], Loss: 0.1075\n",
      "Epoch [86/100], Loss: 0.1188\n",
      "Epoch [87/100], Loss: 0.1515\n",
      "Epoch [88/100], Loss: 0.1464\n",
      "Epoch [89/100], Loss: 0.1552\n",
      "Epoch [90/100], Loss: 0.0970\n",
      "Epoch [91/100], Loss: 0.1373\n",
      "Epoch [92/100], Loss: 0.0730\n",
      "Epoch [93/100], Loss: 0.0794\n",
      "Epoch [94/100], Loss: 0.1607\n",
      "Epoch [95/100], Loss: 0.1466\n",
      "Epoch [96/100], Loss: 0.1332\n",
      "Epoch [97/100], Loss: 0.3350\n",
      "Epoch [98/100], Loss: 0.0820\n",
      "Epoch [99/100], Loss: 0.2346\n",
      "Epoch [100/100], Loss: 0.0660\n",
      "Training finished.\n"
     ]
    }
   ],
   "source": [
    "# --- Step 4: The Training Loop ---\n",
    "print(\"\\nStep 4: Starting training loop...\")\n",
    "num_epochs = 100\n",
    "model_class = model\n",
    "for epoch in range(num_epochs):\n",
    "    model_class.train()\n",
    "    for batch_X, batch_y in train_loader:\n",
    "        outputs = model_class(batch_X).squeeze() # Get model output\n",
    "        loss = criterion(outputs, batch_y.float()) # Compare with target\n",
    "\n",
    "        optimizer.zero_grad()\n",
    "        loss.backward()\n",
    "        optimizer.step()\n",
    "\n",
    "    print(f'Epoch [{epoch+1}/{num_epochs}], Loss: {loss.item():.4f}')\n",
    "\n",
    "print(\"Training finished.\")"
   ]
  },
  {
   "cell_type": "code",
   "execution_count": null,
   "id": "294828b5",
   "metadata": {},
   "outputs": [
    {
     "name": "stdout",
     "output_type": "stream",
     "text": [
      "\n",
      "--- Evaluating Model with Detailed Metrics ---\n",
      "\n",
      "--- Classification Report ---\n",
      "              precision    recall  f1-score   support\n",
      "\n",
      " Bearish (0)       0.51      0.45      0.48       201\n",
      " Bullish (1)       0.50      0.57      0.53       198\n",
      "\n",
      "    accuracy                           0.51       399\n",
      "   macro avg       0.51      0.51      0.51       399\n",
      "weighted avg       0.51      0.51      0.51       399\n",
      "\n",
      "\n",
      "--- Confusion Matrix ---\n"
     ]
    },
    {
     "data": {
      "image/png": "[encoded data removed]",
      "text/plain": [
       "<Figure size 800x600 with 2 Axes>"
      ]
     },
     "metadata": {},
     "output_type": "display_data"
    }
   ],
   "source": [
    "# REPLACE your old \"Step 5\" in src/train_pytorch.py with this new section\n",
    "\n",
    "# --- Step 5: Detailed Evaluation on Test Set ---\n",
    "print(\"\\n--- Evaluating Model with Detailed Metrics ---\")\n",
    "model_class.eval() # Set the model to evaluation mode (very important!)\n",
    "\n",
    "# We need to collect all predictions and true labels from the test set\n",
    "all_predictions = []\n",
    "all_labels = []\n",
    "\n",
    "# torch.inference_mode() tells PyTorch we are not training, so it doesn't need to calculate gradients.\n",
    "# This makes evaluation much faster and uses less memory.\n",
    "with torch.inference_mode():\n",
    "    for batch_X, batch_y in test_loader:\n",
    "        # 1. Get the raw model output (logits)\n",
    "        outputs = model_class(batch_X).squeeze()\n",
    "        \n",
    "        # 2. Convert logits to final predictions (0 or 1)\n",
    "        predicted = torch.round(torch.sigmoid(outputs))\n",
    "        \n",
    "        # 3. Move predictions and labels to the CPU and convert to NumPy arrays\n",
    "        #    so that scikit-learn can use them.\n",
    "        all_predictions.extend(predicted.cpu().numpy())\n",
    "        all_labels.extend(batch_y.cpu().numpy())\n",
    "\n",
    "# --- 5a. Generate the Classification Report ---\n",
    "print(\"\\n--- Classification Report ---\")\n",
    "# This report gives you precision, recall, and f1-score for each class.\n",
    "report = classification_report(all_labels, all_predictions, target_names=['Bearish (0)', 'Bullish (1)'])\n",
    "print(report)\n",
    "\n",
    "# --- 5b. Generate and Visualize the Confusion Matrix ---\n",
    "print(\"\\n--- Confusion Matrix ---\")\n",
    "cm = confusion_matrix(all_labels, all_predictions)\n",
    "\n",
    "# Use seaborn to create a nice heatmap for the confusion matrix\n",
    "plt.figure(figsize=(8, 6))\n",
    "sns.heatmap(cm, annot=True, fmt='d', cmap='Blues', \n",
    "            xticklabels=['Predicted Bearish', 'Predicted Bullish'], \n",
    "            yticklabels=['Actual Bearish', 'Actual Bullish'])\n",
    "plt.ylabel('Actual Label')\n",
    "plt.xlabel('Predicted Label')\n",
    "plt.title('Confusion Matrix')\n",
    "plt.show()"
   ]
  },
  {
   "cell_type": "code",
   "execution_count": 39,
   "id": "b2b11377",
   "metadata": {},
   "outputs": [
    {
     "name": "stdout",
     "output_type": "stream",
     "text": [
      "\n",
      "Classification model saved to ../models/hyp_a_xauusd_h1_2018_pytorch_lstm_classifier_51acc_50p_60r.pth\n"
     ]
    }
   ],
   "source": [
    "# --- Step 6: Save the Model --- (This part is unchanged)\n",
    "model_path = '../models/hyp_a_xauusd_h1_2018_pytorch_lstm_classifier_51acc_50p_60r.pth'\n",
    "torch.save(model_class.state_dict(), model_path)\n",
    "print(f\"\\nClassification model saved to {model_path}\")"
   ]
  },
  {
   "cell_type": "markdown",
   "id": "b3cacd21",
   "metadata": {},
   "source": [
    "### reg training"
   ]
  },
  {
   "cell_type": "code",
   "execution_count": 25,
   "id": "f0e799d6",
   "metadata": {},
   "outputs": [
    {
     "name": "stdout",
     "output_type": "stream",
     "text": [
      "\n",
      "Step 4: Starting training loop...\n",
      "Epoch [1/100], Loss: 0.0085\n",
      "Epoch [2/100], Loss: 0.0055\n",
      "Epoch [3/100], Loss: 0.0058\n",
      "Epoch [4/100], Loss: 0.0068\n",
      "Epoch [5/100], Loss: 0.0057\n",
      "Epoch [6/100], Loss: 0.0063\n",
      "Epoch [7/100], Loss: 0.0065\n",
      "Epoch [8/100], Loss: 0.0048\n",
      "Epoch [9/100], Loss: 0.0050\n",
      "Epoch [10/100], Loss: 0.0058\n",
      "Epoch [11/100], Loss: 0.0059\n",
      "Epoch [12/100], Loss: 0.0057\n",
      "Epoch [13/100], Loss: 0.0054\n",
      "Epoch [14/100], Loss: 0.0070\n",
      "Epoch [15/100], Loss: 0.0078\n",
      "Epoch [16/100], Loss: 0.0053\n",
      "Epoch [17/100], Loss: 0.0070\n",
      "Epoch [18/100], Loss: 0.0076\n",
      "Epoch [19/100], Loss: 0.0082\n",
      "Epoch [20/100], Loss: 0.0065\n",
      "Epoch [21/100], Loss: 0.0064\n",
      "Epoch [22/100], Loss: 0.0068\n",
      "Epoch [23/100], Loss: 0.0043\n",
      "Epoch [24/100], Loss: 0.0046\n",
      "Epoch [25/100], Loss: 0.0063\n",
      "Epoch [26/100], Loss: 0.0077\n",
      "Epoch [27/100], Loss: 0.0054\n",
      "Epoch [28/100], Loss: 0.0090\n",
      "Epoch [29/100], Loss: 0.0051\n",
      "Epoch [30/100], Loss: 0.0066\n",
      "Epoch [31/100], Loss: 0.0074\n",
      "Epoch [32/100], Loss: 0.0043\n",
      "Epoch [33/100], Loss: 0.0066\n",
      "Epoch [34/100], Loss: 0.0054\n",
      "Epoch [35/100], Loss: 0.0065\n",
      "Epoch [36/100], Loss: 0.0055\n",
      "Epoch [37/100], Loss: 0.0083\n",
      "Epoch [38/100], Loss: 0.0065\n",
      "Epoch [39/100], Loss: 0.0060\n",
      "Epoch [40/100], Loss: 0.0087\n",
      "Epoch [41/100], Loss: 0.0058\n",
      "Epoch [42/100], Loss: 0.0045\n",
      "Epoch [43/100], Loss: 0.0057\n",
      "Epoch [44/100], Loss: 0.0071\n",
      "Epoch [45/100], Loss: 0.0064\n",
      "Epoch [46/100], Loss: 0.0080\n",
      "Epoch [47/100], Loss: 0.0064\n",
      "Epoch [48/100], Loss: 0.0058\n",
      "Epoch [49/100], Loss: 0.0061\n",
      "Epoch [50/100], Loss: 0.0047\n",
      "Epoch [51/100], Loss: 0.0069\n",
      "Epoch [52/100], Loss: 0.0045\n",
      "Epoch [53/100], Loss: 0.0054\n",
      "Epoch [54/100], Loss: 0.0054\n",
      "Epoch [55/100], Loss: 0.0074\n",
      "Epoch [56/100], Loss: 0.0076\n",
      "Epoch [57/100], Loss: 0.0055\n",
      "Epoch [58/100], Loss: 0.0048\n",
      "Epoch [59/100], Loss: 0.0063\n",
      "Epoch [60/100], Loss: 0.0048\n",
      "Epoch [61/100], Loss: 0.0082\n",
      "Epoch [62/100], Loss: 0.0085\n",
      "Epoch [63/100], Loss: 0.0059\n",
      "Epoch [64/100], Loss: 0.0077\n",
      "Epoch [65/100], Loss: 0.0067\n",
      "Epoch [66/100], Loss: 0.0057\n",
      "Epoch [67/100], Loss: 0.0065\n",
      "Epoch [68/100], Loss: 0.0054\n",
      "Epoch [69/100], Loss: 0.0062\n",
      "Epoch [70/100], Loss: 0.0050\n",
      "Epoch [71/100], Loss: 0.0075\n",
      "Epoch [72/100], Loss: 0.0051\n",
      "Epoch [73/100], Loss: 0.0069\n",
      "Epoch [74/100], Loss: 0.0054\n",
      "Epoch [75/100], Loss: 0.0080\n",
      "Epoch [76/100], Loss: 0.0056\n",
      "Epoch [77/100], Loss: 0.0051\n",
      "Epoch [78/100], Loss: 0.0063\n",
      "Epoch [79/100], Loss: 0.0047\n",
      "Epoch [80/100], Loss: 0.0042\n",
      "Epoch [81/100], Loss: 0.0063\n",
      "Epoch [82/100], Loss: 0.0052\n",
      "Epoch [83/100], Loss: 0.0050\n",
      "Epoch [84/100], Loss: 0.0061\n",
      "Epoch [85/100], Loss: 0.0063\n",
      "Epoch [86/100], Loss: 0.0060\n",
      "Epoch [87/100], Loss: 0.0079\n",
      "Epoch [88/100], Loss: 0.0044\n",
      "Epoch [89/100], Loss: 0.0080\n",
      "Epoch [90/100], Loss: 0.0062\n",
      "Epoch [91/100], Loss: 0.0056\n",
      "Epoch [92/100], Loss: 0.0046\n",
      "Epoch [93/100], Loss: 0.0059\n",
      "Epoch [94/100], Loss: 0.0045\n",
      "Epoch [95/100], Loss: 0.0064\n",
      "Epoch [96/100], Loss: 0.0050\n",
      "Epoch [97/100], Loss: 0.0055\n",
      "Epoch [98/100], Loss: 0.0047\n",
      "Epoch [99/100], Loss: 0.0047\n",
      "Epoch [100/100], Loss: 0.0056\n",
      "Training finished.\n"
     ]
    }
   ],
   "source": [
    "# --- Step 4: The Training Loop ---\n",
    "print(\"\\nStep 4: Starting training loop...\")\n",
    "num_epochs = 100\n",
    "\n",
    "for epoch in range(num_epochs):\n",
    "    model.train()\n",
    "    for batch_X, batch_y in train_loader_reg:\n",
    "        outputs = model(batch_X).squeeze() # Get model output\n",
    "        loss = criterion_reg(outputs, batch_y.float()) # Compare with target\n",
    "\n",
    "        optimizer.zero_grad()\n",
    "        loss.backward()\n",
    "        optimizer.step()\n",
    "\n",
    "    print(f'Epoch [{epoch+1}/{num_epochs}], Loss: {loss.item():.4f}')\n",
    "\n",
    "print(\"Training finished.\")"
   ]
  },
  {
   "cell_type": "code",
   "execution_count": null,
   "id": "dd79b1b8",
   "metadata": {},
   "outputs": [
    {
     "name": "stdout",
     "output_type": "stream",
     "text": [
      "\n",
      "Mean Absolute Error (MAE) on test data: 0.692496\n",
      "This means our model's return prediction is off by this amount on average.\n"
     ]
    }
   ],
   "source": [
    "# --- Step 5: Evaluation for REGRESSION ---\n",
    "model.eval()\n",
    "total_mae = 0.0\n",
    "with torch.inference_mode():\n",
    "    for batch_X, batch_y in test_loader_reg:\n",
    "        outputs = model(batch_X).squeeze()\n",
    "        # CHANGE: We directly calculate the MAE. No sigmoid, no rounding.\n",
    "        mae = criterion(outputs, batch_y.float())\n",
    "        total_mae += mae.item() * batch_X.size(0)\n",
    "\n",
    "avg_mae = total_mae / len(test_dataset)\n",
    "print(f'\\nMean Absolute Error (MAE) on test data: {avg_mae:.6f}')\n",
    "print(\"This means our model's return prediction is off by this amount on average.\")"
   ]
  },
  {
   "cell_type": "code",
   "execution_count": 27,
   "id": "f3851ed1",
   "metadata": {},
   "outputs": [
    {
     "name": "stdout",
     "output_type": "stream",
     "text": [
      "Regression model saved to ../models/hyp_a_xauusd_h1_2018_pytorch_lstm_regressor_0692_mae.pth\n"
     ]
    }
   ],
   "source": [
    "# --- Step 6: Save the Model ---\n",
    "model_path = '../models/hyp_a_xauusd_h1_2018_pytorch_lstm_regressor_0692_mae.pth'\n",
    "torch.save(model.state_dict(), model_path)\n",
    "print(f\"Regression model saved to {model_path}\")"
   ]
  }
 ],
 "metadata": {
  "kernelspec": {
   "display_name": "trade_env",
   "language": "python",
   "name": "python3"
  },
  "language_info": {
   "codemirror_mode": {
    "name": "ipython",
    "version": 3
   },
   "file_extension": ".py",
   "mimetype": "text/x-python",
   "name": "python",
   "nbconvert_exporter": "python",
   "pygments_lexer": "ipython3",
   "version": "3.13.7"
  }
 },
 "nbformat": 4,
 "nbformat_minor": 5
}
