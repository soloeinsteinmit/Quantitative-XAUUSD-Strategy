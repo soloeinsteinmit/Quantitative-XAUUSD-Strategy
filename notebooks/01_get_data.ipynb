{
 "cells": [
  {
   "cell_type": "code",
   "execution_count": null,
   "id": "c772c6f1",
   "metadata": {},
   "outputs": [],
   "source": [
    "import MetaTrader5 as mt5\n",
    "import pandas as pd\n",
    "from datetime import datetime"
   ]
  },
  {
   "cell_type": "code",
   "execution_count": 2,
   "id": "6eb98a75",
   "metadata": {},
   "outputs": [],
   "source": [
    "import sys\n",
    "import os\n",
    "from pathlib import Path\n",
    "\n",
    "current_dir = Path(os.getcwd())\n",
    "sys.path.append(str(current_dir.parent))\n",
    "\n",
    "from src.config import DEMO_ACCOUNT_NUMBER, PASSWORD, SERVER"
   ]
  },
  {
   "cell_type": "code",
   "execution_count": 13,
   "id": "b430f23d",
   "metadata": {},
   "outputs": [
    {
     "name": "stdout",
     "output_type": "stream",
     "text": [
      "Connected to MetaTrader 5\n"
     ]
    }
   ],
   "source": [
    "# --- Connection Settings ---\n",
    "# Replace with your demo account details\n",
    "account_number = int(DEMO_ACCOUNT_NUMBER) # accept and int\n",
    "password = PASSWORD\n",
    "server = SERVER\n",
    "\n",
    "# --- Connect to MetaTrader 5 ---\n",
    "if not mt5.initialize(login=account_number, password=password, server=server):\n",
    "    print(\"initialize() failed, error code =\", mt5.last_error())\n",
    "    quit()\n",
    "print(\"Connected to MetaTrader 5\")"
   ]
  },
  {
   "cell_type": "code",
   "execution_count": 14,
   "id": "bb0d9167",
   "metadata": {},
   "outputs": [
    {
     "data": {
      "text/plain": [
       "True"
      ]
     },
     "execution_count": 14,
     "metadata": {},
     "output_type": "execute_result"
    }
   ],
   "source": [
    "# --- Data Download Settings ---\n",
    "symbol = \"XAUUSD\"\n",
    "timeframe = mt5.TIMEFRAME_H1  # 1-hour timeframe\n",
    "year = 2020\n",
    "start_date = datetime(year, 1, 1)\n",
    "# start_date = datetime(2018, 1, 1)\n",
    "end_date = datetime.now()\n",
    "\n",
    "# --- Fetch the data ---\n",
    "rates = mt5.copy_rates_range(symbol, timeframe, start_date, end_date)\n",
    "\n",
    "# --- Shutdown connection ---\n",
    "mt5.shutdown()"
   ]
  },
  {
   "cell_type": "code",
   "execution_count": 15,
   "id": "2f73636f",
   "metadata": {},
   "outputs": [
    {
     "name": "stdout",
     "output_type": "stream",
     "text": [
      "Data downloaded successfully: 33802 rows\n",
      "Data saved to xauusd_h1_2020_present.parquet\n",
      "                 time     open     high      low    close  tick_volume  \\\n",
      "0 2020-01-02 06:00:00  1520.26  1520.36  1519.39  1519.39          756   \n",
      "1 2020-01-02 07:00:00  1519.37  1520.36  1518.95  1520.19         1448   \n",
      "2 2020-01-02 08:00:00  1520.20  1520.91  1519.30  1520.87         1969   \n",
      "3 2020-01-02 09:00:00  1520.94  1521.37  1519.03  1519.11         3457   \n",
      "4 2020-01-02 10:00:00  1519.11  1520.93  1518.38  1520.75         4209   \n",
      "\n",
      "   spread  real_volume  \n",
      "0      20            0  \n",
      "1      19            0  \n",
      "2      20            0  \n",
      "3      19            0  \n",
      "4      17            0  \n"
     ]
    }
   ],
   "source": [
    "# --- Create a Pandas DataFrame ---\n",
    "save_path = \"../data/raw\"\n",
    "if rates is None:\n",
    "    print(\"No data received from MT5.\")\n",
    "else:\n",
    "    df = pd.DataFrame(rates)\n",
    "    # Convert timestamp to a readable datetime format\n",
    "    df['time'] = pd.to_datetime(df['time'], unit='s')\n",
    "    print(f\"Data downloaded successfully: {df.shape[0]} rows\")\n",
    "    \n",
    "    # --- Save the data to a file ---\n",
    "    # Using Parquet is more efficient than CSV\n",
    "    df.to_parquet(f'{save_path}/xauusd_h1_{year}_present.parquet')\n",
    "    print(f\"Data saved to xauusd_h1_{year}_present.parquet\")\n",
    "    print(df.head())"
   ]
  }
 ],
 "metadata": {
  "kernelspec": {
   "display_name": "trade_env",
   "language": "python",
   "name": "python3"
  },
  "language_info": {
   "codemirror_mode": {
    "name": "ipython",
    "version": 3
   },
   "file_extension": ".py",
   "mimetype": "text/x-python",
   "name": "python",
   "nbconvert_exporter": "python",
   "pygments_lexer": "ipython3",
   "version": "3.13.7"
  }
 },
 "nbformat": 4,
 "nbformat_minor": 5
}
